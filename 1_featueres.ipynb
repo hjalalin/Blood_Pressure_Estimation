{
 "cells": [
  {
   "cell_type": "code",
   "execution_count": 1,
   "id": "6a047d9a",
   "metadata": {
    "_cell_guid": "b1076dfc-b9ad-4769-8c92-a6c4dae69d19",
    "_uuid": "8f2839f25d086af736a60e9eeb907d3b93b6e0e5",
    "execution": {
     "iopub.execute_input": "2023-12-18T06:14:07.913356Z",
     "iopub.status.busy": "2023-12-18T06:14:07.912984Z",
     "iopub.status.idle": "2023-12-18T06:14:09.729876Z",
     "shell.execute_reply": "2023-12-18T06:14:09.728867Z"
    },
    "papermill": {
     "duration": 1.824908,
     "end_time": "2023-12-18T06:14:09.732680",
     "exception": false,
     "start_time": "2023-12-18T06:14:07.907772",
     "status": "completed"
    },
    "tags": []
   },
   "outputs": [],
   "source": [
    "import os\n",
    "import numpy as np \n",
    "import pandas as pd\n",
    "import scipy\n",
    "from scipy.fft import fft, fftfreq\n",
    "from scipy.signal import find_peaks\n",
    "import matplotlib.pyplot as plt"
   ]
  },
  {
   "cell_type": "code",
   "execution_count": 2,
   "id": "4b7b7e66",
   "metadata": {
    "execution": {
     "iopub.execute_input": "2023-12-18T06:14:09.740978Z",
     "iopub.status.busy": "2023-12-18T06:14:09.740417Z",
     "iopub.status.idle": "2023-12-18T06:14:09.746845Z",
     "shell.execute_reply": "2023-12-18T06:14:09.745685Z"
    },
    "papermill": {
     "duration": 0.013212,
     "end_time": "2023-12-18T06:14:09.749238",
     "exception": false,
     "start_time": "2023-12-18T06:14:09.736026",
     "status": "completed"
    },
    "tags": []
   },
   "outputs": [],
   "source": [
    "os.chdir('/kaggle/input/BloodPressureDataset')"
   ]
  },
  {
   "cell_type": "markdown",
   "id": "f324380e",
   "metadata": {
    "papermill": {
     "duration": 0.002835,
     "end_time": "2023-12-18T06:14:09.755259",
     "exception": false,
     "start_time": "2023-12-18T06:14:09.752424",
     "status": "completed"
    },
    "tags": []
   },
   "source": [
    "# Heart Rate"
   ]
  },
  {
   "cell_type": "code",
   "execution_count": 3,
   "id": "9ce00996",
   "metadata": {
    "execution": {
     "iopub.execute_input": "2023-12-18T06:14:09.762968Z",
     "iopub.status.busy": "2023-12-18T06:14:09.762544Z",
     "iopub.status.idle": "2023-12-18T06:14:09.770590Z",
     "shell.execute_reply": "2023-12-18T06:14:09.769770Z"
    },
    "papermill": {
     "duration": 0.014753,
     "end_time": "2023-12-18T06:14:09.773045",
     "exception": false,
     "start_time": "2023-12-18T06:14:09.758292",
     "status": "completed"
    },
    "tags": []
   },
   "outputs": [],
   "source": [
    "def extract_heart_rate(signal, sampling_rate, min_hr, max_hr):\n",
    "    num_samples = len(signal)\n",
    "    fft_x = fft(signal)\n",
    "    frequencies = fftfreq(num_samples, 1/fs)\n",
    "    peaks, _ = find_peaks(np.abs(fft_x)[1:num_samples//2], distance=num_samples/fs)\n",
    "    peak_index =  peaks[np.argsort(np.abs(fft_x[peaks]))[::-1][:3]]\n",
    "    peak_frequencies = np.round(frequencies[peak_index],1)\n",
    "    peak_frequency = [element for element in peak_frequencies if min_hr/60 <= element <= max_hr/60]\n",
    "    if len(peak_frequency) > 0:\n",
    "        heart_rate = 60 * float(min(peak_frequency))\n",
    "    else:\n",
    "        heart_rate = np.nan\n",
    "    return heart_rate"
   ]
  },
  {
   "cell_type": "code",
   "execution_count": 4,
   "id": "0f2af12b",
   "metadata": {
    "execution": {
     "iopub.execute_input": "2023-12-18T06:14:09.780739Z",
     "iopub.status.busy": "2023-12-18T06:14:09.780333Z",
     "iopub.status.idle": "2023-12-18T06:16:09.674466Z",
     "shell.execute_reply": "2023-12-18T06:16:09.673140Z"
    },
    "papermill": {
     "duration": 119.901365,
     "end_time": "2023-12-18T06:16:09.677471",
     "exception": false,
     "start_time": "2023-12-18T06:14:09.776106",
     "status": "completed"
    },
    "tags": []
   },
   "outputs": [],
   "source": [
    "fs = 125\n",
    "heart_rates = []\n",
    "for ii in range(12):\n",
    "    filename = 'part_' + str(ii + 1) + '.mat'\n",
    "    mat_data = scipy.io.loadmat(filename)['p']\n",
    "    for jj in range(1000):\n",
    "        ecg_signal = mat_data[0][jj][1]\n",
    "        ppg_signal = mat_data[0][jj][0]\n",
    "        heart_rates.append(extract_heart_rate(ppg_signal, fs, min_hr= 30, max_hr=220))"
   ]
  },
  {
   "cell_type": "code",
   "execution_count": 5,
   "id": "ac472eca",
   "metadata": {
    "execution": {
     "iopub.execute_input": "2023-12-18T06:16:09.685423Z",
     "iopub.status.busy": "2023-12-18T06:16:09.685047Z",
     "iopub.status.idle": "2023-12-18T06:16:10.069944Z",
     "shell.execute_reply": "2023-12-18T06:16:10.068782Z"
    },
    "papermill": {
     "duration": 0.391371,
     "end_time": "2023-12-18T06:16:10.072223",
     "exception": false,
     "start_time": "2023-12-18T06:16:09.680852",
     "status": "completed"
    },
    "tags": []
   },
   "outputs": [
    {
     "data": {
      "text/plain": [
       "Text(0, 0.5, 'Count')"
      ]
     },
     "execution_count": 5,
     "metadata": {},
     "output_type": "execute_result"
    },
    {
     "data": {
      "image/png": "[encoded data removed]",
      "text/plain": [
       "<Figure size 640x480 with 1 Axes>"
      ]
     },
     "metadata": {},
     "output_type": "display_data"
    }
   ],
   "source": [
    "plt.hist(heart_rates)\n",
    "plt.xlabel('Heart rate')\n",
    "plt.ylabel('Count')"
   ]
  }
 ],
 "metadata": {
  "kaggle": {
   "accelerator": "none",
   "dataSources": [
    {
     "datasetId": 1233,
     "sourceId": 2437,
     "sourceType": "datasetVersion"
    }
   ],
   "dockerImageVersionId": 30615,
   "isGpuEnabled": false,
   "isInternetEnabled": true,
   "language": "python",
   "sourceType": "notebook"
  },
  "kernelspec": {
   "display_name": "Python 3",
   "language": "python",
   "name": "python3"
  },
  "language_info": {
   "codemirror_mode": {
    "name": "ipython",
    "version": 3
   },
   "file_extension": ".py",
   "mimetype": "text/x-python",
   "name": "python",
   "nbconvert_exporter": "python",
   "pygments_lexer": "ipython3",
   "version": "3.10.12"
  },
  "papermill": {
   "default_parameters": {},
   "duration": 126.385157,
   "end_time": "2023-12-18T06:16:10.697030",
   "environment_variables": {},
   "exception": null,
   "input_path": "__notebook__.ipynb",
   "output_path": "__notebook__.ipynb",
   "parameters": {},
   "start_time": "2023-12-18T06:14:04.311873",
   "version": "2.4.0"
  }
 },
 "nbformat": 4,
 "nbformat_minor": 5
}
