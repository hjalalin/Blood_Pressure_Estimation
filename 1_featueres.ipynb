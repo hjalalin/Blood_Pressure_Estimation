{
 "cells": [
  {
   "cell_type": "code",
   "execution_count": 1,
   "id": "b7ba84e0",
   "metadata": {
    "_cell_guid": "b1076dfc-b9ad-4769-8c92-a6c4dae69d19",
    "_uuid": "8f2839f25d086af736a60e9eeb907d3b93b6e0e5",
    "execution": {
     "iopub.execute_input": "2023-12-11T22:10:45.890826Z",
     "iopub.status.busy": "2023-12-11T22:10:45.890056Z",
     "iopub.status.idle": "2023-12-11T22:10:47.712985Z",
     "shell.execute_reply": "2023-12-11T22:10:47.711757Z"
    },
    "papermill": {
     "duration": 1.831288,
     "end_time": "2023-12-11T22:10:47.716019",
     "exception": false,
     "start_time": "2023-12-11T22:10:45.884731",
     "status": "completed"
    },
    "tags": []
   },
   "outputs": [],
   "source": [
    "import os\n",
    "import numpy as np \n",
    "import pandas as pd\n",
    "import scipy\n",
    "from scipy.fft import fft, fftfreq\n",
    "from scipy.signal import find_peaks\n",
    "import matplotlib.pyplot as plt"
   ]
  },
  {
   "cell_type": "code",
   "execution_count": 2,
   "id": "c348c666",
   "metadata": {
    "execution": {
     "iopub.execute_input": "2023-12-11T22:10:47.724477Z",
     "iopub.status.busy": "2023-12-11T22:10:47.723893Z",
     "iopub.status.idle": "2023-12-11T22:10:47.731647Z",
     "shell.execute_reply": "2023-12-11T22:10:47.730496Z"
    },
    "papermill": {
     "duration": 0.014754,
     "end_time": "2023-12-11T22:10:47.734158",
     "exception": false,
     "start_time": "2023-12-11T22:10:47.719404",
     "status": "completed"
    },
    "tags": []
   },
   "outputs": [],
   "source": [
    "os.chdir('/kaggle/input/BloodPressureDataset')"
   ]
  },
  {
   "cell_type": "markdown",
   "id": "7e50e974",
   "metadata": {
    "papermill": {
     "duration": 0.002761,
     "end_time": "2023-12-11T22:10:47.740197",
     "exception": false,
     "start_time": "2023-12-11T22:10:47.737436",
     "status": "completed"
    },
    "tags": []
   },
   "source": [
    "# Heart Rate"
   ]
  },
  {
   "cell_type": "code",
   "execution_count": 3,
   "id": "da3a6b32",
   "metadata": {
    "execution": {
     "iopub.execute_input": "2023-12-11T22:10:47.748166Z",
     "iopub.status.busy": "2023-12-11T22:10:47.747736Z",
     "iopub.status.idle": "2023-12-11T22:10:47.756438Z",
     "shell.execute_reply": "2023-12-11T22:10:47.755253Z"
    },
    "papermill": {
     "duration": 0.015626,
     "end_time": "2023-12-11T22:10:47.758769",
     "exception": false,
     "start_time": "2023-12-11T22:10:47.743143",
     "status": "completed"
    },
    "tags": []
   },
   "outputs": [],
   "source": [
    "def extract_heart_rate(ecg_signal, sampling_rate, min_hr, max_hr):\n",
    "    num_samples = len(ecg_signal)\n",
    "    fft_ecg = fft(ecg_signal)\n",
    "    frequencies = fftfreq(num_samples, 1/fs)\n",
    "    peaks_ecg, _ = find_peaks(np.abs(fft_ecg)[1:num_samples//2], distance=num_samples/fs)\n",
    "    peak_index_ecg =  peaks_ecg[np.argsort(np.abs(fft_ecg[peaks_ecg]))[::-1][:3]]\n",
    "    peak_frequencies = np.round(frequencies[peak_index_ecg],1)\n",
    "    peak_frequency_ecg = [element for element in peak_frequencies if min_hr/60 <= element <= max_hr/60]\n",
    "    if len(peak_frequency_ecg) > 0:\n",
    "        heart_rate = 60 * float(min(peak_frequency_ecg))\n",
    "    else:\n",
    "        heart_rate = np.nan\n",
    "    return heart_rate"
   ]
  },
  {
   "cell_type": "code",
   "execution_count": 4,
   "id": "d4cbcd1c",
   "metadata": {
    "execution": {
     "iopub.execute_input": "2023-12-11T22:10:47.766989Z",
     "iopub.status.busy": "2023-12-11T22:10:47.766579Z",
     "iopub.status.idle": "2023-12-11T22:12:44.832655Z",
     "shell.execute_reply": "2023-12-11T22:12:44.831391Z"
    },
    "papermill": {
     "duration": 117.073708,
     "end_time": "2023-12-11T22:12:44.835690",
     "exception": false,
     "start_time": "2023-12-11T22:10:47.761982",
     "status": "completed"
    },
    "tags": []
   },
   "outputs": [],
   "source": [
    "fs = 125\n",
    "heart_rates = []\n",
    "for ii in range(12):\n",
    "    filename = 'part_' + str(ii + 1) + '.mat'\n",
    "    mat_data = scipy.io.loadmat(filename)['p']\n",
    "    for jj in range(1000):\n",
    "        ecg_signal = mat_data[0][jj][2]\n",
    "        heart_rates.append(extract_heart_rate(ecg_signal, fs, min_hr= 30, max_hr=220))"
   ]
  },
  {
   "cell_type": "code",
   "execution_count": 5,
   "id": "89adb86c",
   "metadata": {
    "execution": {
     "iopub.execute_input": "2023-12-11T22:12:44.843764Z",
     "iopub.status.busy": "2023-12-11T22:12:44.843327Z",
     "iopub.status.idle": "2023-12-11T22:12:45.247782Z",
     "shell.execute_reply": "2023-12-11T22:12:45.246393Z"
    },
    "papermill": {
     "duration": 0.411645,
     "end_time": "2023-12-11T22:12:45.250605",
     "exception": false,
     "start_time": "2023-12-11T22:12:44.838960",
     "status": "completed"
    },
    "tags": []
   },
   "outputs": [
    {
     "data": {
      "text/plain": [
       "Text(0, 0.5, 'Count')"
      ]
     },
     "execution_count": 5,
     "metadata": {},
     "output_type": "execute_result"
    },
    {
     "data": {
      "image/png": "[encoded data removed]",
      "text/plain": [
       "<Figure size 640x480 with 1 Axes>"
      ]
     },
     "metadata": {},
     "output_type": "display_data"
    }
   ],
   "source": [
    "plt.hist(heart_rates)\n",
    "plt.xlabel('Heart rate')\n",
    "plt.ylabel('Count')"
   ]
  }
 ],
 "metadata": {
  "kaggle": {
   "accelerator": "none",
   "dataSources": [
    {
     "datasetId": 1233,
     "sourceId": 2437,
     "sourceType": "datasetVersion"
    }
   ],
   "dockerImageVersionId": 30615,
   "isGpuEnabled": false,
   "isInternetEnabled": true,
   "language": "python",
   "sourceType": "notebook"
  },
  "kernelspec": {
   "display_name": "Python 3",
   "language": "python",
   "name": "python3"
  },
  "language_info": {
   "codemirror_mode": {
    "name": "ipython",
    "version": 3
   },
   "file_extension": ".py",
   "mimetype": "text/x-python",
   "name": "python",
   "nbconvert_exporter": "python",
   "pygments_lexer": "ipython3",
   "version": "3.10.12"
  },
  "papermill": {
   "default_parameters": {},
   "duration": 123.645749,
   "end_time": "2023-12-11T22:12:45.976453",
   "environment_variables": {},
   "exception": null,
   "input_path": "__notebook__.ipynb",
   "output_path": "__notebook__.ipynb",
   "parameters": {},
   "start_time": "2023-12-11T22:10:42.330704",
   "version": "2.4.0"
  }
 },
 "nbformat": 4,
 "nbformat_minor": 5
}
